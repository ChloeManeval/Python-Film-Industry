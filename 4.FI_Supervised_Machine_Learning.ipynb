{
 "cells": [
  {
   "cell_type": "markdown",
   "id": "6b8140e6-4f70-4f12-a2cf-0a30d6e489a5",
   "metadata": {},
   "source": [
    "# Table of Contents\n",
    "### 1. Import Librairies\n",
    "### 2. Import Data\n",
    "### 3. Data Preparation for Regression Analysis\n",
    "### 4. Regression analysis"
   ]
  },
  {
   "cell_type": "markdown",
   "id": "eb8b0126-6b36-4449-b213-599d3709b70d",
   "metadata": {},
   "source": [
    "# 1. Import Librairies"
   ]
  },
  {
   "cell_type": "code",
   "execution_count": 1,
   "id": "5f5e7d41-c49e-4d33-bb5e-41a3ffc857f5",
   "metadata": {},
   "outputs": [],
   "source": [
    "import pandas as pd\n",
    "import numpy as np\n",
    "import seaborn as sns\n",
    "import matplotlib\n",
    "import matplotlib.pyplot as plt\n",
    "import os\n",
    "import sklearn\n",
    "from sklearn.model_selection import train_test_split \n",
    "from sklearn.linear_model import LinearRegression\n",
    "from sklearn.metrics import mean_squared_error, r2_score"
   ]
  },
  {
   "cell_type": "code",
   "execution_count": 2,
   "id": "f6d0f086-6b51-466d-b096-d0eb5749f860",
   "metadata": {},
   "outputs": [],
   "source": [
    "#This command propts matplotlib visuals to appear in the notebook \n",
    "%matplotlib inline"
   ]
  },
  {
   "cell_type": "markdown",
   "id": "9cfd5e84-ce07-4ccc-b0d7-47a2e1592574",
   "metadata": {},
   "source": [
    "# 2. Import Data"
   ]
  },
  {
   "cell_type": "code",
   "execution_count": 3,
   "id": "2cc5c5e6-93d6-45ed-9de9-04b5112c49f6",
   "metadata": {},
   "outputs": [],
   "source": [
    "#Create path\n",
    "path = r'C:\\Users\\manev\\Documents\\Agentür für Arbeit\\CareerFoundry\\Data Immersion\\Achievement 6\\Film_Industry'"
   ]
  },
  {
   "cell_type": "code",
   "execution_count": 4,
   "id": "4e1e4349-e084-4460-b78e-e5bc9006191f",
   "metadata": {},
   "outputs": [],
   "source": [
    "#Create data frame for the \"movie_data_cleaned_35yr\" data set\n",
    "movie_data= pd.read_pickle(os.path.join(path,'Data','Prepared Data','movie_data_final.pkl'))"
   ]
  },
  {
   "cell_type": "code",
   "execution_count": 5,
   "id": "90c3b19c-593c-4195-b4cd-b36cd4eb4d97",
   "metadata": {},
   "outputs": [
    {
     "data": {
      "text/plain": [
       "(7000, 13)"
      ]
     },
     "execution_count": 5,
     "metadata": {},
     "output_type": "execute_result"
    }
   ],
   "source": [
    "#Check the shape of the movie_data data set\n",
    "movie_data.shape"
   ]
  },
  {
   "cell_type": "code",
   "execution_count": 6,
   "id": "09efe395-6f29-438d-8628-3c0af149e6bd",
   "metadata": {},
   "outputs": [
    {
     "data": {
      "text/html": [
       "<div>\n",
       "<style scoped>\n",
       "    .dataframe tbody tr th:only-of-type {\n",
       "        vertical-align: middle;\n",
       "    }\n",
       "\n",
       "    .dataframe tbody tr th {\n",
       "        vertical-align: top;\n",
       "    }\n",
       "\n",
       "    .dataframe thead th {\n",
       "        text-align: right;\n",
       "    }\n",
       "</style>\n",
       "<table border=\"1\" class=\"dataframe\">\n",
       "  <thead>\n",
       "    <tr style=\"text-align: right;\">\n",
       "      <th></th>\n",
       "      <th>movie_name</th>\n",
       "      <th>MPAA_rating</th>\n",
       "      <th>genre</th>\n",
       "      <th>release_year</th>\n",
       "      <th>grade</th>\n",
       "      <th>nb_of_votes</th>\n",
       "      <th>director</th>\n",
       "      <th>writer</th>\n",
       "      <th>main_star</th>\n",
       "      <th>production_country</th>\n",
       "      <th>gross_revenue</th>\n",
       "      <th>production_company</th>\n",
       "      <th>runtime</th>\n",
       "    </tr>\n",
       "  </thead>\n",
       "  <tbody>\n",
       "    <tr>\n",
       "      <th>641</th>\n",
       "      <td>Weird Science</td>\n",
       "      <td>PG-13</td>\n",
       "      <td>Comedy</td>\n",
       "      <td>1985</td>\n",
       "      <td>6.6</td>\n",
       "      <td>83000</td>\n",
       "      <td>John Hughes</td>\n",
       "      <td>John Hughes</td>\n",
       "      <td>Anthony Michael Hall</td>\n",
       "      <td>United States of America</td>\n",
       "      <td>38934048.0</td>\n",
       "      <td>Universal Pictures</td>\n",
       "      <td>94</td>\n",
       "    </tr>\n",
       "    <tr>\n",
       "      <th>642</th>\n",
       "      <td>The Goonies</td>\n",
       "      <td>PG</td>\n",
       "      <td>Adventure</td>\n",
       "      <td>1985</td>\n",
       "      <td>7.8</td>\n",
       "      <td>252000</td>\n",
       "      <td>Richard Donner</td>\n",
       "      <td>Chris Columbus</td>\n",
       "      <td>Sean Astin</td>\n",
       "      <td>United States of America</td>\n",
       "      <td>63980721.0</td>\n",
       "      <td>Warner Bros.</td>\n",
       "      <td>114</td>\n",
       "    </tr>\n",
       "    <tr>\n",
       "      <th>643</th>\n",
       "      <td>Back to the Future</td>\n",
       "      <td>PG</td>\n",
       "      <td>Adventure</td>\n",
       "      <td>1985</td>\n",
       "      <td>8.5</td>\n",
       "      <td>1100000</td>\n",
       "      <td>Robert Zemeckis</td>\n",
       "      <td>Robert Zemeckis</td>\n",
       "      <td>Michael J. Fox</td>\n",
       "      <td>United States of America</td>\n",
       "      <td>381906762.0</td>\n",
       "      <td>Universal Pictures</td>\n",
       "      <td>116</td>\n",
       "    </tr>\n",
       "    <tr>\n",
       "      <th>644</th>\n",
       "      <td>To Live and Die in L.A.</td>\n",
       "      <td>R</td>\n",
       "      <td>Action</td>\n",
       "      <td>1985</td>\n",
       "      <td>7.3</td>\n",
       "      <td>31000</td>\n",
       "      <td>William Friedkin</td>\n",
       "      <td>Gerald Petievich</td>\n",
       "      <td>William Petersen</td>\n",
       "      <td>United States of America</td>\n",
       "      <td>17307019.0</td>\n",
       "      <td>SLM Production Group</td>\n",
       "      <td>116</td>\n",
       "    </tr>\n",
       "    <tr>\n",
       "      <th>645</th>\n",
       "      <td>Clue</td>\n",
       "      <td>PG</td>\n",
       "      <td>Comedy</td>\n",
       "      <td>1985</td>\n",
       "      <td>7.3</td>\n",
       "      <td>88000</td>\n",
       "      <td>Jonathan Lynn</td>\n",
       "      <td>John Landis</td>\n",
       "      <td>Eileen Brennan</td>\n",
       "      <td>United States of America</td>\n",
       "      <td>14643997.0</td>\n",
       "      <td>Paramount Pictures</td>\n",
       "      <td>94</td>\n",
       "    </tr>\n",
       "  </tbody>\n",
       "</table>\n",
       "</div>"
      ],
      "text/plain": [
       "                  movie_name MPAA_rating      genre  release_year  grade  \\\n",
       "641            Weird Science       PG-13     Comedy          1985    6.6   \n",
       "642              The Goonies          PG  Adventure          1985    7.8   \n",
       "643       Back to the Future          PG  Adventure          1985    8.5   \n",
       "644  To Live and Die in L.A.           R     Action          1985    7.3   \n",
       "645                     Clue          PG     Comedy          1985    7.3   \n",
       "\n",
       "     nb_of_votes          director            writer             main_star  \\\n",
       "641        83000       John Hughes       John Hughes  Anthony Michael Hall   \n",
       "642       252000    Richard Donner    Chris Columbus            Sean Astin   \n",
       "643      1100000   Robert Zemeckis   Robert Zemeckis        Michael J. Fox   \n",
       "644        31000  William Friedkin  Gerald Petievich      William Petersen   \n",
       "645        88000     Jonathan Lynn       John Landis        Eileen Brennan   \n",
       "\n",
       "           production_country  gross_revenue    production_company  runtime  \n",
       "641  United States of America     38934048.0    Universal Pictures       94  \n",
       "642  United States of America     63980721.0          Warner Bros.      114  \n",
       "643  United States of America    381906762.0    Universal Pictures      116  \n",
       "644  United States of America     17307019.0  SLM Production Group      116  \n",
       "645  United States of America     14643997.0    Paramount Pictures       94  "
      ]
     },
     "execution_count": 6,
     "metadata": {},
     "output_type": "execute_result"
    }
   ],
   "source": [
    "movie_data.head()"
   ]
  },
  {
   "cell_type": "markdown",
   "id": "5ff8c8a4-3e0a-4efa-b699-19149d5063d3",
   "metadata": {},
   "source": [
    "# 3. Data Preparation for Regression Analysis"
   ]
  },
  {
   "cell_type": "code",
   "execution_count": 8,
   "id": "497cb5e8-3dc0-41e9-a1d6-c61b19e44072",
   "metadata": {},
   "outputs": [
    {
     "data": {
      "text/plain": [
       "Text(0, 0.5, 'Number of Votes')"
      ]
     },
     "execution_count": 8,
     "metadata": {},
     "output_type": "execute_result"
    },
    {
     "data": {
      "image/png": "[encoded data removed]",
      "text/plain": [
       "<Figure size 640x480 with 1 Axes>"
      ]
     },
     "metadata": {},
     "output_type": "display_data"
    }
   ],
   "source": [
    "#Create a scatterplot\n",
    "movie_data.plot(x = 'grade', y='nb_of_votes',style='o')\n",
    "plt.title('Movie Grade vs Number of Votes')  \n",
    "plt.xlabel('Movie Grade')  \n",
    "plt.ylabel('Number of Votes')  "
   ]
  },
  {
   "cell_type": "markdown",
   "id": "2b281674-97db-473f-a3f4-4c70111aaa2d",
   "metadata": {},
   "source": [
    "#### Hypothesis: The higher the grade, the higher the number of votes."
   ]
  },
  {
   "cell_type": "code",
   "execution_count": 9,
   "id": "8738b72d-3ef8-4866-953b-aa5c4ecf64ea",
   "metadata": {},
   "outputs": [],
   "source": [
    "#Reshape the variables into NumPy arrays and put them into separate objects.\n",
    "X = movie_data['grade'].values.reshape(-1,1)\n",
    "y = movie_data['nb_of_votes'].values.reshape(-1,1)"
   ]
  },
  {
   "cell_type": "code",
   "execution_count": 11,
   "id": "d5594f53-742c-4a2f-8eb1-f07a9b906658",
   "metadata": {},
   "outputs": [
    {
     "data": {
      "text/plain": [
       "array([[6.6],\n",
       "       [7.8],\n",
       "       [8.5],\n",
       "       ...,\n",
       "       [3. ],\n",
       "       [4.8],\n",
       "       [6.8]])"
      ]
     },
     "execution_count": 11,
     "metadata": {},
     "output_type": "execute_result"
    }
   ],
   "source": [
    "#Check the arrays were created\n",
    "X"
   ]
  },
  {
   "cell_type": "code",
   "execution_count": 12,
   "id": "6f049eb7-0751-43fb-ae49-e43de34878c5",
   "metadata": {},
   "outputs": [
    {
     "data": {
      "text/plain": [
       "array([[  83000],\n",
       "       [ 252000],\n",
       "       [1100000],\n",
       "       ...,\n",
       "       [    122],\n",
       "       [    373],\n",
       "       [    869]], dtype=int64)"
      ]
     },
     "execution_count": 12,
     "metadata": {},
     "output_type": "execute_result"
    }
   ],
   "source": [
    "#Check the arrays were created\n",
    "y"
   ]
  },
  {
   "cell_type": "code",
   "execution_count": 13,
   "id": "62a6b07d-69d6-4c52-aa13-4021f918d852",
   "metadata": {},
   "outputs": [],
   "source": [
    "#Split data into a training set and a test set.\n",
    "X_train, X_test, y_train, y_test = train_test_split(X, y, test_size=0.3, random_state=0)"
   ]
  },
  {
   "cell_type": "markdown",
   "id": "87344b8d-437c-4fb2-bd93-424c2b9385d4",
   "metadata": {},
   "source": [
    "# 4. Perform Regression Analysis"
   ]
  },
  {
   "cell_type": "code",
   "execution_count": 15,
   "id": "2a39f8fe-ee9a-4274-8c62-38f186769804",
   "metadata": {},
   "outputs": [],
   "source": [
    "#Create a regession object\n",
    "regression = LinearRegression()"
   ]
  },
  {
   "cell_type": "code",
   "execution_count": 16,
   "id": "18fb1b01-6437-4372-9031-45f1290ca959",
   "metadata": {},
   "outputs": [
    {
     "data": {
      "text/html": [
       "<style>#sk-container-id-1 {color: black;background-color: white;}#sk-container-id-1 pre{padding: 0;}#sk-container-id-1 div.sk-toggleable {background-color: white;}#sk-container-id-1 label.sk-toggleable__label {cursor: pointer;display: block;width: 100%;margin-bottom: 0;padding: 0.3em;box-sizing: border-box;text-align: center;}#sk-container-id-1 label.sk-toggleable__label-arrow:before {content: \"▸\";float: left;margin-right: 0.25em;color: #696969;}#sk-container-id-1 label.sk-toggleable__label-arrow:hover:before {color: black;}#sk-container-id-1 div.sk-estimator:hover label.sk-toggleable__label-arrow:before {color: black;}#sk-container-id-1 div.sk-toggleable__content {max-height: 0;max-width: 0;overflow: hidden;text-align: left;background-color: #f0f8ff;}#sk-container-id-1 div.sk-toggleable__content pre {margin: 0.2em;color: black;border-radius: 0.25em;background-color: #f0f8ff;}#sk-container-id-1 input.sk-toggleable__control:checked~div.sk-toggleable__content {max-height: 200px;max-width: 100%;overflow: auto;}#sk-container-id-1 input.sk-toggleable__control:checked~label.sk-toggleable__label-arrow:before {content: \"▾\";}#sk-container-id-1 div.sk-estimator input.sk-toggleable__control:checked~label.sk-toggleable__label {background-color: #d4ebff;}#sk-container-id-1 div.sk-label input.sk-toggleable__control:checked~label.sk-toggleable__label {background-color: #d4ebff;}#sk-container-id-1 input.sk-hidden--visually {border: 0;clip: rect(1px 1px 1px 1px);clip: rect(1px, 1px, 1px, 1px);height: 1px;margin: -1px;overflow: hidden;padding: 0;position: absolute;width: 1px;}#sk-container-id-1 div.sk-estimator {font-family: monospace;background-color: #f0f8ff;border: 1px dotted black;border-radius: 0.25em;box-sizing: border-box;margin-bottom: 0.5em;}#sk-container-id-1 div.sk-estimator:hover {background-color: #d4ebff;}#sk-container-id-1 div.sk-parallel-item::after {content: \"\";width: 100%;border-bottom: 1px solid gray;flex-grow: 1;}#sk-container-id-1 div.sk-label:hover label.sk-toggleable__label {background-color: #d4ebff;}#sk-container-id-1 div.sk-serial::before {content: \"\";position: absolute;border-left: 1px solid gray;box-sizing: border-box;top: 0;bottom: 0;left: 50%;z-index: 0;}#sk-container-id-1 div.sk-serial {display: flex;flex-direction: column;align-items: center;background-color: white;padding-right: 0.2em;padding-left: 0.2em;position: relative;}#sk-container-id-1 div.sk-item {position: relative;z-index: 1;}#sk-container-id-1 div.sk-parallel {display: flex;align-items: stretch;justify-content: center;background-color: white;position: relative;}#sk-container-id-1 div.sk-item::before, #sk-container-id-1 div.sk-parallel-item::before {content: \"\";position: absolute;border-left: 1px solid gray;box-sizing: border-box;top: 0;bottom: 0;left: 50%;z-index: -1;}#sk-container-id-1 div.sk-parallel-item {display: flex;flex-direction: column;z-index: 1;position: relative;background-color: white;}#sk-container-id-1 div.sk-parallel-item:first-child::after {align-self: flex-end;width: 50%;}#sk-container-id-1 div.sk-parallel-item:last-child::after {align-self: flex-start;width: 50%;}#sk-container-id-1 div.sk-parallel-item:only-child::after {width: 0;}#sk-container-id-1 div.sk-dashed-wrapped {border: 1px dashed gray;margin: 0 0.4em 0.5em 0.4em;box-sizing: border-box;padding-bottom: 0.4em;background-color: white;}#sk-container-id-1 div.sk-label label {font-family: monospace;font-weight: bold;display: inline-block;line-height: 1.2em;}#sk-container-id-1 div.sk-label-container {text-align: center;}#sk-container-id-1 div.sk-container {/* jupyter's `normalize.less` sets `[hidden] { display: none; }` but bootstrap.min.css set `[hidden] { display: none !important; }` so we also need the `!important` here to be able to override the default hidden behavior on the sphinx rendered scikit-learn.org. See: https://github.com/scikit-learn/scikit-learn/issues/21755 */display: inline-block !important;position: relative;}#sk-container-id-1 div.sk-text-repr-fallback {display: none;}</style><div id=\"sk-container-id-1\" class=\"sk-top-container\"><div class=\"sk-text-repr-fallback\"><pre>LinearRegression()</pre><b>In a Jupyter environment, please rerun this cell to show the HTML representation or trust the notebook. <br />On GitHub, the HTML representation is unable to render, please try loading this page with nbviewer.org.</b></div><div class=\"sk-container\" hidden><div class=\"sk-item\"><div class=\"sk-estimator sk-toggleable\"><input class=\"sk-toggleable__control sk-hidden--visually\" id=\"sk-estimator-id-1\" type=\"checkbox\" checked><label for=\"sk-estimator-id-1\" class=\"sk-toggleable__label sk-toggleable__label-arrow\">LinearRegression</label><div class=\"sk-toggleable__content\"><pre>LinearRegression()</pre></div></div></div></div></div>"
      ],
      "text/plain": [
       "LinearRegression()"
      ]
     },
     "execution_count": 16,
     "metadata": {},
     "output_type": "execute_result"
    }
   ],
   "source": [
    "#Fit the regession to the training set\n",
    "regression.fit(X_train, y_train)"
   ]
  },
  {
   "cell_type": "code",
   "execution_count": 17,
   "id": "55fdb2b2-e10c-46eb-af99-8674ba8f8de7",
   "metadata": {},
   "outputs": [],
   "source": [
    "#Predict the values of y using X in the test set\n",
    "y_predicted = regression.predict(X_test)"
   ]
  },
  {
   "cell_type": "code",
   "execution_count": 18,
   "id": "5a76cde1-ea01-459a-946d-0db7c856e3fd",
   "metadata": {},
   "outputs": [
    {
     "data": {
      "text/plain": [
       "Text(0, 0.5, 'Number of Votes')"
      ]
     },
     "execution_count": 18,
     "metadata": {},
     "output_type": "execute_result"
    },
    {
     "data": {
      "image/png": "[encoded data removed]",
      "text/plain": [
       "<Figure size 640x480 with 1 Axes>"
      ]
     },
     "metadata": {},
     "output_type": "display_data"
    }
   ],
   "source": [
    "#Create a plot that shows the regression line from the model on the test set\n",
    "plot_test = plt\n",
    "plot_test.scatter(X_test, y_test, color='gray', s = 15)\n",
    "plot_test.plot(X_test, y_predicted, color='red', linewidth =3)\n",
    "plot_test.title('Movie Grade vs Number of Votes (Test set)')\n",
    "plot_test.xlabel('Movie Grade')\n",
    "plot_test.ylabel('Number of Votes')"
   ]
  },
  {
   "cell_type": "markdown",
   "id": "aa275691-7534-4c16-944e-ee7a9208ae3d",
   "metadata": {},
   "source": [
    "#### The line doesn't seem to fit the data well. It looks like linear regression might not be a good fit for this data."
   ]
  },
  {
   "cell_type": "code",
   "execution_count": 19,
   "id": "4a8741d8-6ee3-451d-9d0d-fb90ffad45db",
   "metadata": {},
   "outputs": [],
   "source": [
    "#Create objects that contain the model summary statistics.\n",
    "rmse = mean_squared_error(y_test, y_predicted) #This is the mean squared error\n",
    "r2 = r2_score(y_test, y_predicted) #This is the R2 score. "
   ]
  },
  {
   "cell_type": "code",
   "execution_count": 24,
   "id": "2f497069-771a-49e7-92a8-d993ad9cf5a1",
   "metadata": {},
   "outputs": [
    {
     "name": "stdout",
     "output_type": "stream",
     "text": [
      "Slope: [[74560.7]]\n",
      "Mean squared error:  19172734130.3534\n",
      "R2 score:  0.16385821664391265\n"
     ]
    }
   ],
   "source": [
    "#Check the values for the slope, root mean squared error, and r-squared value.\n",
    "print('Slope:', regression.coef_)\n",
    "print('Mean squared error: ', rmse)\n",
    "print('R2 score: ', r2)"
   ]
  },
  {
   "cell_type": "markdown",
   "id": "df23c700-51d0-4255-b209-ca85acab84a2",
   "metadata": {},
   "source": [
    "The mean squarred error is very high (19172734130.3534) and the R2 score is very low (0,16), so it looks like this model is not performing well."
   ]
  },
  {
   "cell_type": "code",
   "execution_count": 25,
   "id": "209e6077-69a4-409c-9dab-a7b1debca20d",
   "metadata": {},
   "outputs": [
    {
     "data": {
      "text/html": [
       "<div>\n",
       "<style scoped>\n",
       "    .dataframe tbody tr th:only-of-type {\n",
       "        vertical-align: middle;\n",
       "    }\n",
       "\n",
       "    .dataframe tbody tr th {\n",
       "        vertical-align: top;\n",
       "    }\n",
       "\n",
       "    .dataframe thead th {\n",
       "        text-align: right;\n",
       "    }\n",
       "</style>\n",
       "<table border=\"1\" class=\"dataframe\">\n",
       "  <thead>\n",
       "    <tr style=\"text-align: right;\">\n",
       "      <th></th>\n",
       "      <th>Actual</th>\n",
       "      <th>Predicted</th>\n",
       "    </tr>\n",
       "  </thead>\n",
       "  <tbody>\n",
       "    <tr>\n",
       "      <th>0</th>\n",
       "      <td>54000</td>\n",
       "      <td>33405.554740</td>\n",
       "    </tr>\n",
       "    <tr>\n",
       "      <th>1</th>\n",
       "      <td>23000</td>\n",
       "      <td>-3874.797367</td>\n",
       "    </tr>\n",
       "    <tr>\n",
       "      <th>2</th>\n",
       "      <td>95000</td>\n",
       "      <td>33405.554740</td>\n",
       "    </tr>\n",
       "    <tr>\n",
       "      <th>3</th>\n",
       "      <td>56000</td>\n",
       "      <td>137790.540640</td>\n",
       "    </tr>\n",
       "    <tr>\n",
       "      <th>4</th>\n",
       "      <td>4700</td>\n",
       "      <td>-3874.797367</td>\n",
       "    </tr>\n",
       "    <tr>\n",
       "      <th>5</th>\n",
       "      <td>16000</td>\n",
       "      <td>137790.540640</td>\n",
       "    </tr>\n",
       "    <tr>\n",
       "      <th>6</th>\n",
       "      <td>28000</td>\n",
       "      <td>93054.118112</td>\n",
       "    </tr>\n",
       "    <tr>\n",
       "      <th>7</th>\n",
       "      <td>171000</td>\n",
       "      <td>63229.836426</td>\n",
       "    </tr>\n",
       "    <tr>\n",
       "      <th>8</th>\n",
       "      <td>168000</td>\n",
       "      <td>78141.977269</td>\n",
       "    </tr>\n",
       "    <tr>\n",
       "      <th>9</th>\n",
       "      <td>7800</td>\n",
       "      <td>3581.273054</td>\n",
       "    </tr>\n",
       "    <tr>\n",
       "      <th>10</th>\n",
       "      <td>58000</td>\n",
       "      <td>122878.399798</td>\n",
       "    </tr>\n",
       "    <tr>\n",
       "      <th>11</th>\n",
       "      <td>121000</td>\n",
       "      <td>85598.047690</td>\n",
       "    </tr>\n",
       "    <tr>\n",
       "      <th>12</th>\n",
       "      <td>30000</td>\n",
       "      <td>33405.554740</td>\n",
       "    </tr>\n",
       "    <tr>\n",
       "      <th>13</th>\n",
       "      <td>27000</td>\n",
       "      <td>175070.892748</td>\n",
       "    </tr>\n",
       "    <tr>\n",
       "      <th>14</th>\n",
       "      <td>14000</td>\n",
       "      <td>122878.399798</td>\n",
       "    </tr>\n",
       "    <tr>\n",
       "      <th>15</th>\n",
       "      <td>12000</td>\n",
       "      <td>100510.188533</td>\n",
       "    </tr>\n",
       "    <tr>\n",
       "      <th>16</th>\n",
       "      <td>14000</td>\n",
       "      <td>55773.766004</td>\n",
       "    </tr>\n",
       "    <tr>\n",
       "      <th>17</th>\n",
       "      <td>111000</td>\n",
       "      <td>100510.188533</td>\n",
       "    </tr>\n",
       "    <tr>\n",
       "      <th>18</th>\n",
       "      <td>100000</td>\n",
       "      <td>115422.329376</td>\n",
       "    </tr>\n",
       "    <tr>\n",
       "      <th>19</th>\n",
       "      <td>17000</td>\n",
       "      <td>137790.540640</td>\n",
       "    </tr>\n",
       "    <tr>\n",
       "      <th>20</th>\n",
       "      <td>3500</td>\n",
       "      <td>85598.047690</td>\n",
       "    </tr>\n",
       "    <tr>\n",
       "      <th>21</th>\n",
       "      <td>38000</td>\n",
       "      <td>137790.540640</td>\n",
       "    </tr>\n",
       "    <tr>\n",
       "      <th>22</th>\n",
       "      <td>78000</td>\n",
       "      <td>175070.892748</td>\n",
       "    </tr>\n",
       "    <tr>\n",
       "      <th>23</th>\n",
       "      <td>48000</td>\n",
       "      <td>33405.554740</td>\n",
       "    </tr>\n",
       "    <tr>\n",
       "      <th>24</th>\n",
       "      <td>23000</td>\n",
       "      <td>70685.906847</td>\n",
       "    </tr>\n",
       "    <tr>\n",
       "      <th>25</th>\n",
       "      <td>79000</td>\n",
       "      <td>227263.385698</td>\n",
       "    </tr>\n",
       "    <tr>\n",
       "      <th>26</th>\n",
       "      <td>99000</td>\n",
       "      <td>130334.470219</td>\n",
       "    </tr>\n",
       "    <tr>\n",
       "      <th>27</th>\n",
       "      <td>3000</td>\n",
       "      <td>-33699.079053</td>\n",
       "    </tr>\n",
       "    <tr>\n",
       "      <th>28</th>\n",
       "      <td>38000</td>\n",
       "      <td>145246.611062</td>\n",
       "    </tr>\n",
       "    <tr>\n",
       "      <th>29</th>\n",
       "      <td>78000</td>\n",
       "      <td>100510.188533</td>\n",
       "    </tr>\n",
       "  </tbody>\n",
       "</table>\n",
       "</div>"
      ],
      "text/plain": [
       "    Actual      Predicted\n",
       "0    54000   33405.554740\n",
       "1    23000   -3874.797367\n",
       "2    95000   33405.554740\n",
       "3    56000  137790.540640\n",
       "4     4700   -3874.797367\n",
       "5    16000  137790.540640\n",
       "6    28000   93054.118112\n",
       "7   171000   63229.836426\n",
       "8   168000   78141.977269\n",
       "9     7800    3581.273054\n",
       "10   58000  122878.399798\n",
       "11  121000   85598.047690\n",
       "12   30000   33405.554740\n",
       "13   27000  175070.892748\n",
       "14   14000  122878.399798\n",
       "15   12000  100510.188533\n",
       "16   14000   55773.766004\n",
       "17  111000  100510.188533\n",
       "18  100000  115422.329376\n",
       "19   17000  137790.540640\n",
       "20    3500   85598.047690\n",
       "21   38000  137790.540640\n",
       "22   78000  175070.892748\n",
       "23   48000   33405.554740\n",
       "24   23000   70685.906847\n",
       "25   79000  227263.385698\n",
       "26   99000  130334.470219\n",
       "27    3000  -33699.079053\n",
       "28   38000  145246.611062\n",
       "29   78000  100510.188533"
      ]
     },
     "execution_count": 25,
     "metadata": {},
     "output_type": "execute_result"
    }
   ],
   "source": [
    "#Create a data frame showing the predicted y values and the real y values\n",
    "data = pd.DataFrame({'Actual': y_test.flatten(), 'Predicted': y_predicted.flatten()})\n",
    "data.head(30)"
   ]
  },
  {
   "cell_type": "markdown",
   "id": "c418cd21-7b96-4afa-8d01-745cf275e3a0",
   "metadata": {},
   "source": [
    "The model did not perform well on the test set. This is not suprising as the scatter plot was showing a positive relationship between the two variables, but not a linear one. Linear regression is therefore not the right tool to use to predict the number of votes per movie, based on the movie's grade.\n",
    "Outliers could have skewed the data, although we have made the choice to keep these values in the data set as they are significant."
   ]
  },
  {
   "cell_type": "code",
   "execution_count": null,
   "id": "ce2f44d0-13ad-42e4-b81a-be1c2cce5dab",
   "metadata": {},
   "outputs": [],
   "source": []
  }
 ],
 "metadata": {
  "kernelspec": {
   "display_name": "Python 3 (ipykernel)",
   "language": "python",
   "name": "python3"
  },
  "language_info": {
   "codemirror_mode": {
    "name": "ipython",
    "version": 3
   },
   "file_extension": ".py",
   "mimetype": "text/x-python",
   "name": "python",
   "nbconvert_exporter": "python",
   "pygments_lexer": "ipython3",
   "version": "3.11.7"
  }
 },
 "nbformat": 4,
 "nbformat_minor": 5
}
